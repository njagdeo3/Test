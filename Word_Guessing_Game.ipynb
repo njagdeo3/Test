{
  "nbformat": 4,
  "nbformat_minor": 0,
  "metadata": {
    "colab": {
      "provenance": [],
      "authorship_tag": "ABX9TyONfhwbMwT4u6FdS2iY9Q7o",
      "include_colab_link": true
    },
    "kernelspec": {
      "name": "python3",
      "display_name": "Python 3"
    },
    "language_info": {
      "name": "python"
    }
  },
  "cells": [
    {
      "cell_type": "markdown",
      "metadata": {
        "id": "view-in-github",
        "colab_type": "text"
      },
      "source": [
        "<a href=\"https://colab.research.google.com/github/njagdeo3/Test/blob/main/Word_Guessing_Game.ipynb\" target=\"_parent\"><img src=\"https://colab.research.google.com/assets/colab-badge.svg\" alt=\"Open In Colab\"/></a>"
      ]
    },
    {
      "cell_type": "code",
      "execution_count": 2,
      "metadata": {
        "id": "lx3xZ3Q7xdtn"
      },
      "outputs": [],
      "source": [
        "import random"
      ]
    },
    {
      "cell_type": "code",
      "source": [
        "word_bank = ['soccer', 'basketball', 'football', 'tennis', 'golf']\n",
        "word = random.choice(word_bank)\n"
      ],
      "metadata": {
        "id": "5aelbuns0tMO"
      },
      "execution_count": 3,
      "outputs": []
    },
    {
      "cell_type": "code",
      "source": [
        "attempts = 6  # Or any other number of attempts you want\n",
        "guessedWord = ['_'] * len(word)\n",
        "\n",
        "while attempts > 0:\n",
        "  print('\\nCurrent word: ' + ' '.join(guessedWord))\n",
        "\n",
        "  guess = input('Guess a letter: ').lower()\n",
        "\n",
        "  if guess in word:\n",
        "    for i in range(len(word)):\n",
        "        if word[i] == guess:\n",
        "            guessedWord[i] = guess\n",
        "            print('Great guess!')\n",
        "  else:\n",
        "    attempts -= 1\n",
        "    print('Wrong guess! Attempts left: ' + str(attempts))\n",
        "  if '_' not in guessedWord:\n",
        "    print('\\nCongratulations!! You guessed the word: ' + word)\n",
        "    break\n",
        "\n",
        "if attempts == 0 and '_' in guessedWord:\n",
        "  print('\\nYou\\'ve run out of attempts! The word was: ' + word)"
      ],
      "metadata": {
        "colab": {
          "base_uri": "https://localhost:8080/"
        },
        "id": "2MnVwlV51wH4",
        "outputId": "17c47fb1-5ab2-4f4a-ce71-d0174a9bbdb6"
      },
      "execution_count": 7,
      "outputs": [
        {
          "output_type": "stream",
          "name": "stdout",
          "text": [
            "\n",
            "Current word: _ _ _ _ _ _\n",
            "Guess a letter: s\n",
            "Great guess!\n",
            "\n",
            "Current word: s _ _ _ _ _\n",
            "Guess a letter: b\n",
            "Wrong guess! Attempts left: 5\n",
            "\n",
            "Current word: s _ _ _ _ _\n",
            "Guess a letter: o\n",
            "Great guess!\n",
            "\n",
            "Current word: s o _ _ _ _\n",
            "Guess a letter: c\n",
            "Great guess!\n",
            "Great guess!\n",
            "\n",
            "Current word: s o c c _ _\n",
            "Guess a letter: e\n",
            "Great guess!\n",
            "\n",
            "Current word: s o c c e _\n",
            "Guess a letter: r\n",
            "Great guess!\n",
            "\n",
            "Congratulations!! You guessed the word: soccer\n"
          ]
        }
      ]
    },
    {
      "cell_type": "code",
      "source": [],
      "metadata": {
        "id": "jdUDI6gI1uJp"
      },
      "execution_count": null,
      "outputs": []
    }
  ]
}